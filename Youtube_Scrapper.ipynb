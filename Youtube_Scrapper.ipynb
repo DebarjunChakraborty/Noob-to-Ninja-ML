{
 "cells": [
  {
   "cell_type": "code",
   "execution_count": 1,
   "metadata": {},
   "outputs": [],
   "source": [
    "import requests\n",
    "from bs4 import BeautifulSoup\n",
    "from pandas import DataFrame\n",
    "from json import loads"
   ]
  },
  {
   "cell_type": "code",
   "execution_count": 2,
   "metadata": {},
   "outputs": [
    {
     "data": {
      "text/plain": [
       "<Response [200]>"
      ]
     },
     "execution_count": 2,
     "metadata": {},
     "output_type": "execute_result"
    }
   ],
   "source": [
    "url = 'https://www.youtube.com/@PW-Foundation/videos'\n",
    "\n",
    "# Get the html by get method\n",
    "r = requests.get(url)\n",
    "r"
   ]
  },
  {
   "cell_type": "code",
   "execution_count": 3,
   "metadata": {},
   "outputs": [],
   "source": [
    "# Create BeautifulSoup object\n",
    "soup = BeautifulSoup(r.text, 'html.parser')\n",
    "#soup.prettify()"
   ]
  },
  {
   "cell_type": "code",
   "execution_count": 4,
   "metadata": {},
   "outputs": [],
   "source": [
    "all_script_tags = soup.findAll('script')"
   ]
  },
  {
   "cell_type": "code",
   "execution_count": 5,
   "metadata": {},
   "outputs": [],
   "source": [
    "def script_tag_to_json(tags: list) -> dict:\n",
    "    for tag in reversed(tags):\n",
    "        text: str = tag.text\n",
    "        if 'ytInitialData = {\"responseContext\"' in text:\n",
    "            return loads(text[20:-1])\n",
    "\n",
    "    raise ValueError('Required script tag not found in the given tags.')"
   ]
  },
  {
   "cell_type": "code",
   "execution_count": 6,
   "metadata": {},
   "outputs": [],
   "source": [
    "\n",
    "data = script_tag_to_json(all_script_tags)"
   ]
  },
  {
   "cell_type": "code",
   "execution_count": 7,
   "metadata": {},
   "outputs": [],
   "source": [
    "def get_contents_dict(data):\n",
    "    return data['contents']['twoColumnBrowseResultsRenderer']['tabs'][1]['tabRenderer']['content']['richGridRenderer']['contents']"
   ]
  },
  {
   "cell_type": "markdown",
   "metadata": {},
   "source": [
    "Q1. Write a python program to extract the video URL of the first five videos."
   ]
  },
  {
   "cell_type": "code",
   "execution_count": 8,
   "metadata": {},
   "outputs": [
    {
     "name": "stdout",
     "output_type": "stream",
     "text": [
      "5\n"
     ]
    },
    {
     "data": {
      "text/plain": [
       "['https://www.youtube.com/watch?v=pecNtI_QXEI',\n",
       " 'https://www.youtube.com/watch?v=PXcgTSs-_p8',\n",
       " 'https://www.youtube.com/watch?v=JGJv4jlf8aQ',\n",
       " 'https://www.youtube.com/watch?v=0dMJLkO-SSw',\n",
       " 'https://www.youtube.com/watch?v=0CW4VbfH4kk']"
      ]
     },
     "execution_count": 8,
     "metadata": {},
     "output_type": "execute_result"
    }
   ],
   "source": [
    "from unittest import result\n",
    "\n",
    "\n",
    "def get_videoUrl(data:dict, n: int = 5):\n",
    "    contents = get_contents_dict(data)\n",
    "\n",
    "    if n > 30:\n",
    "        raise ValueError('Max Limit is 30.')\n",
    "\n",
    "    result = []\n",
    "    for i in range(n):\n",
    "        result.append('https://www.youtube.com/watch?v=' +\n",
    "                      contents[i]['richItemRenderer']['content']['videoRenderer']['videoId'])\n",
    "\n",
    "    return result\n",
    "\n",
    "print(len(get_videoUrl(data)))\n",
    "get_videoUrl(data)"
   ]
  },
  {
   "attachments": {},
   "cell_type": "markdown",
   "metadata": {},
   "source": [
    "Q2. Write a python program to extract the URL of the video thumbnails of the first five videos."
   ]
  },
  {
   "cell_type": "code",
   "execution_count": 9,
   "metadata": {},
   "outputs": [
    {
     "name": "stdout",
     "output_type": "stream",
     "text": [
      "5\n"
     ]
    },
    {
     "data": {
      "text/plain": [
       "['https://i.ytimg.com/vi/pecNtI_QXEI/hqdefault.jpg?sqp=-oaymwEjCNACELwBSFryq4qpAxUIARUAAAAAGAElAADIQj0AgKJDeAE=&rs=AOn4CLA74lvwupTBs1HyW_kRpPPRR7m6oA',\n",
       " 'https://i.ytimg.com/vi/PXcgTSs-_p8/hqdefault.jpg?sqp=-oaymwEjCNACELwBSFryq4qpAxUIARUAAAAAGAElAADIQj0AgKJDeAE=&rs=AOn4CLDO-RkTO4cXpwKl7fPqmIfBPL4epA',\n",
       " 'https://i.ytimg.com/vi/JGJv4jlf8aQ/hqdefault.jpg?sqp=-oaymwEjCNACELwBSFryq4qpAxUIARUAAAAAGAElAADIQj0AgKJDeAE=&rs=AOn4CLDqp4egkUL4WsQyMUk3y38CGQJflw',\n",
       " 'https://i.ytimg.com/vi/0dMJLkO-SSw/hqdefault.jpg?sqp=-oaymwEjCNACELwBSFryq4qpAxUIARUAAAAAGAElAADIQj0AgKJDeAE=&rs=AOn4CLABjl1NbhXu4_x-u0GM837jIU4niQ',\n",
       " 'https://i.ytimg.com/vi/0CW4VbfH4kk/hqdefault.jpg?sqp=-oaymwEjCNACELwBSFryq4qpAxUIARUAAAAAGAElAADIQj0AgKJDeAE=&rs=AOn4CLCNdz05xox55dHNhjHfwG3mI1a3mg']"
      ]
     },
     "execution_count": 9,
     "metadata": {},
     "output_type": "execute_result"
    }
   ],
   "source": [
    "def get_thumbnails(data: dict, n: int = 5):\n",
    "    contents = get_contents_dict(data)\n",
    "\n",
    "    if n > 30:\n",
    "        raise ValueError('Max Limit is 30.')\n",
    "\n",
    "    result = []\n",
    "    for i in range(n):\n",
    "        result.append(contents[i]['richItemRenderer']['content']['videoRenderer']['thumbnail']['thumbnails'][-1]['url'])\n",
    "\n",
    "    return result\n",
    "\n",
    "print(len(get_thumbnails(data)))\n",
    "get_thumbnails(data)"
   ]
  },
  {
   "cell_type": "markdown",
   "metadata": {},
   "source": [
    "Q3. Write a python program to extract the title of the first five videos.\n"
   ]
  },
  {
   "cell_type": "code",
   "execution_count": 10,
   "metadata": {},
   "outputs": [
    {
     "name": "stdout",
     "output_type": "stream",
     "text": [
      "5\n"
     ]
    },
    {
     "data": {
      "text/plain": [
       "['POWER SHARING in 40 mins || Class - 10th Boards',\n",
       " 'DEVELOPMENT in 45 mins || Class - 10th Boards',\n",
       " 'REAL NUMBERS in 60 mins || Class - 10th Boards',\n",
       " 'RESOURCES AND DEVELOPMENT in 45 mins || Class - 10th Boards',\n",
       " 'LIGHT REFLECTION AND REFRACTION in 35 mins || Class - 10th Boards']"
      ]
     },
     "execution_count": 10,
     "metadata": {},
     "output_type": "execute_result"
    }
   ],
   "source": [
    "def get_title(data: dict, n:int = 5):\n",
    "    contents = get_contents_dict(data)\n",
    "\n",
    "    if n > 30:\n",
    "        raise ValueError('Max Limit is 30.')\n",
    "\n",
    "    result = []\n",
    "    for i in range(n):\n",
    "        result.append(contents[i]['richItemRenderer']['content']['videoRenderer']['title']['runs'][-1]['text'])\n",
    "\n",
    "    return result\n",
    "\n",
    "print(len(get_title(data)))\n",
    "get_title(data)"
   ]
  },
  {
   "cell_type": "markdown",
   "metadata": {},
   "source": [
    "Q4. Write a python program to extract the number of views of the first five videos."
   ]
  },
  {
   "cell_type": "code",
   "execution_count": 11,
   "metadata": {},
   "outputs": [
    {
     "name": "stdout",
     "output_type": "stream",
     "text": [
      "5\n"
     ]
    },
    {
     "data": {
      "text/plain": [
       "[5869, 5654, 8895, 11853, 25471]"
      ]
     },
     "execution_count": 11,
     "metadata": {},
     "output_type": "execute_result"
    }
   ],
   "source": [
    "def get_viwes(data: dict, n: int = 5):\n",
    "    contents = get_contents_dict(data)\n",
    "\n",
    "    if n > 30:\n",
    "        raise ValueError('Max Limit is 30.')\n",
    "\n",
    "    result = []\n",
    "    for i in range(n):\n",
    "        result.append(int(contents[i]['richItemRenderer']['content']['videoRenderer']['viewCountText']['simpleText']\n",
    "                      [:-6].replace(',', '')))\n",
    "\n",
    "    return result\n",
    "\n",
    "print(len(get_viwes(data)))\n",
    "get_viwes(data)"
   ]
  },
  {
   "cell_type": "markdown",
   "metadata": {},
   "source": [
    "Q5. Write a python program to extract the time of posting of video for the first five videos."
   ]
  },
  {
   "cell_type": "code",
   "execution_count": 12,
   "metadata": {},
   "outputs": [
    {
     "name": "stdout",
     "output_type": "stream",
     "text": [
      "5\n"
     ]
    },
    {
     "data": {
      "text/plain": [
       "['17 hours ago', '1 day ago', '2 days ago', '3 days ago', '4 days ago']"
      ]
     },
     "execution_count": 12,
     "metadata": {},
     "output_type": "execute_result"
    }
   ],
   "source": [
    "def get_time_of_posting(data: dict, n: int = 5):\n",
    "    contents = get_contents_dict(data)\n",
    "\n",
    "    if n > 30:\n",
    "        raise ValueError('Max Limit is 30.')\n",
    "\n",
    "    result = []\n",
    "    for i in range(n):\n",
    "        result.append(contents[i]['richItemRenderer']['content']['videoRenderer']['publishedTimeText']['simpleText'])\n",
    "\n",
    "    return result\n",
    "\n",
    "print(len(get_time_of_posting(data)))\n",
    "get_time_of_posting(data)"
   ]
  },
  {
   "cell_type": "markdown",
   "metadata": {},
   "source": [
    "Note: Save all the data scraped in the above questions in a CSV file."
   ]
  },
  {
   "cell_type": "code",
   "execution_count": 13,
   "metadata": {},
   "outputs": [],
   "source": [
    "from turtle import title\n",
    "\n",
    "\n",
    "def get_channel_video_details(data: dict, n: int):\n",
    "    thumbnails = get_thumbnails(data, n)\n",
    "    time_of_posting = get_time_of_posting(data, n)\n",
    "    titles = get_title(data, n)\n",
    "    video_urls = get_videoUrl(data, n)\n",
    "    viwes=get_viwes(data, n)\n",
    "\n",
    "    main_data = list(zip(titles, video_urls, thumbnails, viwes,time_of_posting))\n",
    "    \n",
    "    df = DataFrame.from_dict(main_data)\n",
    "    df.rename(\n",
    "        columns={\n",
    "            0: 'Title',\n",
    "            1: 'Video Url',\n",
    "            2: 'Thumbnail',\n",
    "            3: 'Views',\n",
    "            4: 'Time of Posting'\n",
    "        }, inplace=True)\n",
    "\n",
    "    return df"
   ]
  },
  {
   "cell_type": "code",
   "execution_count": 14,
   "metadata": {},
   "outputs": [],
   "source": [
    "channel_data = get_channel_video_details(data, 5)"
   ]
  },
  {
   "cell_type": "code",
   "execution_count": 15,
   "metadata": {},
   "outputs": [],
   "source": [
    "channel_data.to_csv('PW-Foundation.csv', index=False)"
   ]
  },
  {
   "cell_type": "code",
   "execution_count": 16,
   "metadata": {},
   "outputs": [
    {
     "data": {
      "text/html": [
       "<div>\n",
       "<style scoped>\n",
       "    .dataframe tbody tr th:only-of-type {\n",
       "        vertical-align: middle;\n",
       "    }\n",
       "\n",
       "    .dataframe tbody tr th {\n",
       "        vertical-align: top;\n",
       "    }\n",
       "\n",
       "    .dataframe thead th {\n",
       "        text-align: right;\n",
       "    }\n",
       "</style>\n",
       "<table border=\"1\" class=\"dataframe\">\n",
       "  <thead>\n",
       "    <tr style=\"text-align: right;\">\n",
       "      <th></th>\n",
       "      <th>Title</th>\n",
       "      <th>Video Url</th>\n",
       "      <th>Thumbnail</th>\n",
       "      <th>Views</th>\n",
       "      <th>Time of Posting</th>\n",
       "    </tr>\n",
       "  </thead>\n",
       "  <tbody>\n",
       "    <tr>\n",
       "      <th>0</th>\n",
       "      <td>POWER SHARING in 40 mins || Class - 10th Boards</td>\n",
       "      <td>https://www.youtube.com/watch?v=pecNtI_QXEI</td>\n",
       "      <td>https://i.ytimg.com/vi/pecNtI_QXEI/hqdefault.j...</td>\n",
       "      <td>5869</td>\n",
       "      <td>17 hours ago</td>\n",
       "    </tr>\n",
       "    <tr>\n",
       "      <th>1</th>\n",
       "      <td>DEVELOPMENT in 45 mins || Class - 10th Boards</td>\n",
       "      <td>https://www.youtube.com/watch?v=PXcgTSs-_p8</td>\n",
       "      <td>https://i.ytimg.com/vi/PXcgTSs-_p8/hqdefault.j...</td>\n",
       "      <td>5654</td>\n",
       "      <td>1 day ago</td>\n",
       "    </tr>\n",
       "    <tr>\n",
       "      <th>2</th>\n",
       "      <td>REAL NUMBERS in 60 mins || Class - 10th Boards</td>\n",
       "      <td>https://www.youtube.com/watch?v=JGJv4jlf8aQ</td>\n",
       "      <td>https://i.ytimg.com/vi/JGJv4jlf8aQ/hqdefault.j...</td>\n",
       "      <td>8895</td>\n",
       "      <td>2 days ago</td>\n",
       "    </tr>\n",
       "    <tr>\n",
       "      <th>3</th>\n",
       "      <td>RESOURCES AND DEVELOPMENT in 45 mins || Class ...</td>\n",
       "      <td>https://www.youtube.com/watch?v=0dMJLkO-SSw</td>\n",
       "      <td>https://i.ytimg.com/vi/0dMJLkO-SSw/hqdefault.j...</td>\n",
       "      <td>11853</td>\n",
       "      <td>3 days ago</td>\n",
       "    </tr>\n",
       "    <tr>\n",
       "      <th>4</th>\n",
       "      <td>LIGHT REFLECTION AND REFRACTION in 35 mins || ...</td>\n",
       "      <td>https://www.youtube.com/watch?v=0CW4VbfH4kk</td>\n",
       "      <td>https://i.ytimg.com/vi/0CW4VbfH4kk/hqdefault.j...</td>\n",
       "      <td>25471</td>\n",
       "      <td>4 days ago</td>\n",
       "    </tr>\n",
       "  </tbody>\n",
       "</table>\n",
       "</div>"
      ],
      "text/plain": [
       "                                               Title  \\\n",
       "0    POWER SHARING in 40 mins || Class - 10th Boards   \n",
       "1      DEVELOPMENT in 45 mins || Class - 10th Boards   \n",
       "2     REAL NUMBERS in 60 mins || Class - 10th Boards   \n",
       "3  RESOURCES AND DEVELOPMENT in 45 mins || Class ...   \n",
       "4  LIGHT REFLECTION AND REFRACTION in 35 mins || ...   \n",
       "\n",
       "                                     Video Url  \\\n",
       "0  https://www.youtube.com/watch?v=pecNtI_QXEI   \n",
       "1  https://www.youtube.com/watch?v=PXcgTSs-_p8   \n",
       "2  https://www.youtube.com/watch?v=JGJv4jlf8aQ   \n",
       "3  https://www.youtube.com/watch?v=0dMJLkO-SSw   \n",
       "4  https://www.youtube.com/watch?v=0CW4VbfH4kk   \n",
       "\n",
       "                                           Thumbnail  Views Time of Posting  \n",
       "0  https://i.ytimg.com/vi/pecNtI_QXEI/hqdefault.j...   5869    17 hours ago  \n",
       "1  https://i.ytimg.com/vi/PXcgTSs-_p8/hqdefault.j...   5654       1 day ago  \n",
       "2  https://i.ytimg.com/vi/JGJv4jlf8aQ/hqdefault.j...   8895      2 days ago  \n",
       "3  https://i.ytimg.com/vi/0dMJLkO-SSw/hqdefault.j...  11853      3 days ago  \n",
       "4  https://i.ytimg.com/vi/0CW4VbfH4kk/hqdefault.j...  25471      4 days ago  "
      ]
     },
     "execution_count": 16,
     "metadata": {},
     "output_type": "execute_result"
    }
   ],
   "source": [
    "import pandas as pd\n",
    "\n",
    "pd.read_csv('PW-Foundation.csv', index_col=False)"
   ]
  },
  {
   "cell_type": "code",
   "execution_count": null,
   "metadata": {},
   "outputs": [],
   "source": []
  }
 ],
 "metadata": {
  "kernelspec": {
   "display_name": "Python 3",
   "language": "python",
   "name": "python3"
  },
  "language_info": {
   "codemirror_mode": {
    "name": "ipython",
    "version": 3
   },
   "file_extension": ".py",
   "mimetype": "text/x-python",
   "name": "python",
   "nbconvert_exporter": "python",
   "pygments_lexer": "ipython3",
   "version": "3.10.5"
  },
  "orig_nbformat": 4
 },
 "nbformat": 4,
 "nbformat_minor": 2
}
